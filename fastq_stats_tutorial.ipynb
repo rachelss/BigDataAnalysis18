{
 "cells": [
  {
   "cell_type": "markdown",
   "metadata": {},
   "source": [
    "You can get data the same way we did in bash. To run any bash command in a Jupyter notebook simply preface the command with !"
   ]
  },
  {
   "cell_type": "code",
   "execution_count": 4,
   "metadata": {
    "collapsed": false
   },
   "outputs": [
    {
     "name": "stdout",
     "output_type": "stream",
     "text": [
      "  % Total    % Received % Xferd  Average Speed   Time    Time     Time  Current\n",
      "                                 Dload  Upload   Total   Spent    Left  Speed\n",
      "100 21190  100 21190    0     0   105k      0 --:--:-- --:--:-- --:--:--  110k\n"
     ]
    }
   ],
   "source": [
    "!curl -O http://rachelss.github.io/Bioinformatics/sample.fastq"
   ]
  },
  {
   "cell_type": "markdown",
   "metadata": {},
   "source": [
    "Run the bash command to list files in the current folder to check it's there"
   ]
  },
  {
   "cell_type": "code",
   "execution_count": null,
   "metadata": {
    "collapsed": false
   },
   "outputs": [],
   "source": [
    "!ls"
   ]
  },
  {
   "cell_type": "markdown",
   "metadata": {},
   "source": [
    "You can also use the `listdir` function in the `os` package to do the same thing. Notice that this generates a list. Because we've imported the function from the package rather than the whole package we use `listdir()` rather than `os.listdir()`."
   ]
  },
  {
   "cell_type": "code",
   "execution_count": null,
   "metadata": {},
   "outputs": [],
   "source": [
    "from os import listdir\n",
    "listdir()"
   ]
  },
  {
   "cell_type": "markdown",
   "metadata": {},
   "source": [
    "Specify the file using a string variable  \n",
    "Open the file  \n",
    "Read it into memory, line by line  \n",
    "This creates a list where each line is an item in that list"
   ]
  },
  {
   "cell_type": "code",
   "execution_count": 7,
   "metadata": {
    "collapsed": false
   },
   "outputs": [],
   "source": [
    "filename = 'sample.fastq'\n",
    "f = open(filename,'r')\n",
    "fastq = f.readlines()"
   ]
  },
  {
   "cell_type": "markdown",
   "metadata": {},
   "source": [
    "To show the contents of the list we can type"
   ]
  },
  {
   "cell_type": "code",
   "execution_count": null,
   "metadata": {
    "collapsed": false
   },
   "outputs": [],
   "source": [
    "print(fastq)"
   ]
  },
  {
   "cell_type": "markdown",
   "metadata": {},
   "source": [
    "Let's not do that - it could be a very long list  \n",
    "Instead, let's print the first item"
   ]
  },
  {
   "cell_type": "code",
   "execution_count": 9,
   "metadata": {
    "collapsed": false
   },
   "outputs": [
    {
     "name": "stdout",
     "output_type": "stream",
     "text": [
      "@read0\n",
      "\n"
     ]
    }
   ],
   "source": [
    "print(fastq[0])"
   ]
  },
  {
   "cell_type": "markdown",
   "metadata": {},
   "source": [
    "Notice the first item is actually given as 0"
   ]
  },
  {
   "cell_type": "markdown",
   "metadata": {},
   "source": [
    "Now let's look at the first few lines  \n",
    "In python you can specify the items in the list you want    \n",
    "In this case we'll get 0 (the first line is 0) up to (but not including) line 10  "
   ]
  },
  {
   "cell_type": "code",
   "execution_count": 10,
   "metadata": {
    "collapsed": false
   },
   "outputs": [
    {
     "data": {
      "text/plain": [
       "['@read0\\n',\n",
       " 'TTCACCGTGATACCGCTTGATCTACGACCGTGCATGAAGACCGCCAATGCTAAGCTCAACGAGGTCCGACCGACGAAGAACTCGTGGACTAAAAATAGCT\\n',\n",
       " '+\\n',\n",
       " 'IM40#d5SUo\"UazxA!zdcs%nDm1I%3wlAxqy9qgcDZQ#pfeH05Jy$zhZoMgEgDnHW7\"sR0fuQF#Zvu!S3\"lmrm8\"I#pq9ZD4vv1x!\\n',\n",
       " '@read1\\n',\n",
       " 'TTCCTTGGATGAAAAAAAAGGAGCGAACGGCCTTTTAGCGAGTAACCGGGTCGCTCGGTCAGTTGAGGCAAACTTCATCACTCGATAGGGGTGTCCGAAT\\n',\n",
       " '+\\n',\n",
       " 'ifl!9hXKU\"bSGVUTye67v1JLT24$9InzAj04X5P#RlIjQ8W\"ZveC3YhDRPf%Dqlvx7\"LQ5gY2komek0wX5Cy62BF5p9MUnQeKbGX\\n',\n",
       " '@read2\\n',\n",
       " 'GTCACTGCCCATGGGAAGACCACTGAAGTCCTCACACGGCCAGGCCCGTGTGGAATTCCGAATCTCAGAAGGATGATGTCCGGTTCGTGGTAGTTTGTAG\\n']"
      ]
     },
     "execution_count": 10,
     "metadata": {},
     "output_type": "execute_result"
    }
   ],
   "source": [
    "fastq[0:10]"
   ]
  },
  {
   "cell_type": "markdown",
   "metadata": {},
   "source": [
    "Notice each line is its own item in the list  \n",
    "Also the fastq file contains more than just the sequence  \n",
    "The sequencer stores the name of the read and the quality of each base  \n",
    "\n",
    "Let's find just the sequences - that's the 2nd line (item 1) and every fourth line after that"
   ]
  },
  {
   "cell_type": "code",
   "execution_count": 11,
   "metadata": {
    "collapsed": false
   },
   "outputs": [
    {
     "name": "stdout",
     "output_type": "stream",
     "text": [
      "TTCACCGTGATACCGCTTGATCTACGACCGTGCATGAAGACCGCCAATGCTAAGCTCAACGAGGTCCGACCGACGAAGAACTCGTGGACTAAAAATAGCT\n",
      "\n",
      "TTCCTTGGATGAAAAAAAAGGAGCGAACGGCCTTTTAGCGAGTAACCGGGTCGCTCGGTCAGTTGAGGCAAACTTCATCACTCGATAGGGGTGTCCGAAT\n",
      "\n",
      "GTCACTGCCCATGGGAAGACCACTGAAGTCCTCACACGGCCAGGCCCGTGTGGAATTCCGAATCTCAGAAGGATGATGTCCGGTTCGTGGTAGTTTGTAG\n",
      "\n"
     ]
    }
   ],
   "source": [
    "print(fastq[1])\n",
    "print(fastq[5])\n",
    "print(fastq[9])"
   ]
  },
  {
   "cell_type": "markdown",
   "metadata": {},
   "source": [
    "## Challenge: what characterizes the lines with the sequences?"
   ]
  },
  {
   "cell_type": "markdown",
   "metadata": {},
   "source": [
    "Reads are on lines where:  \n",
    "the line number = 1+4n  \n",
    "or: if line number / 4 leaves a remainder of 1  \n",
    "in python we use % (modulo) to specify the remainder"
   ]
  },
  {
   "cell_type": "code",
   "execution_count": 12,
   "metadata": {
    "collapsed": false
   },
   "outputs": [
    {
     "name": "stdout",
     "output_type": "stream",
     "text": [
      "1\n",
      "1\n"
     ]
    }
   ],
   "source": [
    "print(1%4)\n",
    "print(5%4)"
   ]
  },
  {
   "cell_type": "markdown",
   "metadata": {},
   "source": [
    "Let's go through each line in the file (we'll limit it to the first 20)\n",
    "\n",
    "Remember for loops in shell? It's easier in python"
   ]
  },
  {
   "cell_type": "code",
   "execution_count": 13,
   "metadata": {
    "collapsed": false
   },
   "outputs": [],
   "source": [
    "for line in fastq[0:20]:\n",
    "    pass"
   ]
  },
  {
   "cell_type": "markdown",
   "metadata": {},
   "source": [
    "pass lets us run the loops without throwing an error or doing anything inside the loop\n",
    "\n",
    "In the last loop we got the item in the line, but not the line number  \n",
    "Let's also include the line number using \"enumerate\" so we can find our sequences"
   ]
  },
  {
   "cell_type": "code",
   "execution_count": 14,
   "metadata": {
    "collapsed": false
   },
   "outputs": [],
   "source": [
    "for line_num,line in enumerate(fastq[0:20]):\n",
    "    pass"
   ]
  },
  {
   "cell_type": "markdown",
   "metadata": {},
   "source": [
    "Now we can print each sequence by checking that it's a sequence line using modulo  \n",
    "note we're using an if statement"
   ]
  },
  {
   "cell_type": "code",
   "execution_count": 15,
   "metadata": {
    "collapsed": false
   },
   "outputs": [
    {
     "name": "stdout",
     "output_type": "stream",
     "text": [
      "TTCACCGTGATACCGCTTGATCTACGACCGTGCATGAAGACCGCCAATGCTAAGCTCAACGAGGTCCGACCGACGAAGAACTCGTGGACTAAAAATAGCT\n",
      "\n",
      "TTCCTTGGATGAAAAAAAAGGAGCGAACGGCCTTTTAGCGAGTAACCGGGTCGCTCGGTCAGTTGAGGCAAACTTCATCACTCGATAGGGGTGTCCGAAT\n",
      "\n",
      "GTCACTGCCCATGGGAAGACCACTGAAGTCCTCACACGGCCAGGCCCGTGTGGAATTCCGAATCTCAGAAGGATGATGTCCGGTTCGTGGTAGTTTGTAG\n",
      "\n",
      "TTTTCTCTCGCTAGAAAAGTGGTCTAGTCTCAACTCGAAATGGTACGTTTGTTTGTTCCGCCGAGCTTGCGCAGTCTCCTCTAGGTGGCTATGGCGGGTC\n",
      "\n",
      "ATTAATGGTAACCAATTAGAGACAAGCCCCTTACATTGGCACGGGTACGCGCGTATACTAGCGTTAGCGGACCCGTTAGACCACTTCGATATTTGATTCA\n",
      "\n"
     ]
    }
   ],
   "source": [
    "for line_num,line in enumerate(fastq[0:20]):\n",
    "    #if line number / 4 leaves a remainder of 1\n",
    "    if line_num%4 == 1:\n",
    "        print(line)"
   ]
  },
  {
   "cell_type": "markdown",
   "metadata": {},
   "source": [
    "Now that we can get our sequence data and we can look for patterns  \n",
    "The first pattern is just to count the number of each base  \n",
    "Before we can count them, we need to access each base\n",
    "\n",
    "## Challenge: add a line to iterate over each base in the line\n",
    "use a subset of your data to check that you are getting the expected results"
   ]
  },
  {
   "cell_type": "code",
   "execution_count": 16,
   "metadata": {
    "collapsed": false
   },
   "outputs": [],
   "source": [
    "for line_num,line in enumerate(fastq[0:20]):\n",
    "    if line_num%4 == 1:\n",
    "        for base in line:\n",
    "            pass"
   ]
  },
  {
   "cell_type": "markdown",
   "metadata": {},
   "source": [
    "Now we can access each base  \n",
    "Let's check if it's an 'A' using an if statement"
   ]
  },
  {
   "cell_type": "code",
   "execution_count": 17,
   "metadata": {
    "collapsed": false
   },
   "outputs": [],
   "source": [
    "for line_num,line in enumerate(fastq[0:20]):\n",
    "    if line_num%4 == 1:\n",
    "        for base in line:\n",
    "            if base == 'A':\n",
    "                pass"
   ]
  },
  {
   "cell_type": "markdown",
   "metadata": {},
   "source": [
    "Now let's count all the A's  \n",
    "We specify a variable for counting  \n",
    "When we're done we print the number in the acounter variable"
   ]
  },
  {
   "cell_type": "code",
   "execution_count": 18,
   "metadata": {
    "collapsed": false
   },
   "outputs": [
    {
     "name": "stdout",
     "output_type": "stream",
     "text": [
      "2517\n"
     ]
    }
   ],
   "source": [
    "acounter = 0\n",
    "for line_num,line in enumerate(fastq):\n",
    "    if line_num%4 == 1:\n",
    "        for base in line:\n",
    "            if base == 'A':\n",
    "                acounter = acounter+1\n",
    "print(acounter)   "
   ]
  },
  {
   "cell_type": "markdown",
   "metadata": {},
   "source": [
    "## Challenge: now count each of the bases"
   ]
  },
  {
   "cell_type": "code",
   "execution_count": 19,
   "metadata": {
    "collapsed": false
   },
   "outputs": [
    {
     "name": "stdout",
     "output_type": "stream",
     "text": [
      "2517 2550 2489 2444\n"
     ]
    }
   ],
   "source": [
    "acounter = 0\n",
    "ccounter = 0\n",
    "gcounter = 0\n",
    "tcounter = 0\n",
    "for line_num,line in enumerate(fastq):\n",
    "    if line_num%4 == 1:\n",
    "        for base in line:\n",
    "            if base == 'A':\n",
    "                acounter = acounter+1\n",
    "            if base == 'C':\n",
    "                ccounter = ccounter+1\n",
    "            if base == 'G':\n",
    "                gcounter = gcounter+1\n",
    "            if base == 'T':\n",
    "                tcounter = tcounter+1\n",
    "print(acounter, ccounter, gcounter, tcounter)"
   ]
  },
  {
   "cell_type": "markdown",
   "metadata": {},
   "source": [
    "That works, but it only works because we know our four bases  \n",
    "Even then, it's a lot of typing or copy / paste  \n",
    "That's prone to error  \n",
    "## Challenge: now count each of the bases using just one variable"
   ]
  },
  {
   "cell_type": "code",
   "execution_count": 20,
   "metadata": {
    "collapsed": false
   },
   "outputs": [
    {
     "name": "stdout",
     "output_type": "stream",
     "text": [
      "[2517, 2550, 2489, 2444]\n"
     ]
    }
   ],
   "source": [
    "counter = [0,0,0,0]\n",
    "for line_num,line in enumerate(fastq):\n",
    "    if line_num%4 == 1:\n",
    "        for base in line:\n",
    "            if base == 'A':\n",
    "                counter[0] = counter[0]+1\n",
    "            if base == 'C':\n",
    "                counter[1] = counter[1]+1\n",
    "            if base == 'G':\n",
    "                counter[2] = counter[2]+1\n",
    "            if base == 'T':\n",
    "                counter[3] = counter[3]+1\n",
    "print(counter)"
   ]
  },
  {
   "cell_type": "markdown",
   "metadata": {},
   "source": [
    "Note we're checking each base four times so even if it's an 'A' we're still checking whether it's a 'C', etc.  \n",
    "Let's expand our if statement to  \n",
    "if, else if (elif), and else"
   ]
  },
  {
   "cell_type": "code",
   "execution_count": 21,
   "metadata": {
    "collapsed": false
   },
   "outputs": [
    {
     "name": "stdout",
     "output_type": "stream",
     "text": [
      "[2517, 2550, 2489, 2444]\n"
     ]
    }
   ],
   "source": [
    "counter = [0,0,0,0]\n",
    "for line_num,line in enumerate(fastq):\n",
    "    if line_num%4 == 1:\n",
    "        for base in line:\n",
    "            if base == 'A':\n",
    "                counter[0] = counter[0]+1\n",
    "            elif base == 'C':\n",
    "                counter[1] = counter[1]+1\n",
    "            elif base == 'G':\n",
    "                counter[2] = counter[2]+1\n",
    "            elif base == 'T':\n",
    "                counter[3] = counter[3]+1\n",
    "print(counter)"
   ]
  },
  {
   "cell_type": "markdown",
   "metadata": {},
   "source": [
    "That's better: we only have one variable instead of four  \n",
    "But we're still checking each base individually  \n",
    "In a minute, we're going to count 2-base patterns  \n",
    "e.g. how many 'AA' or 'AT' - there are 16 of those\n",
    "\n",
    "We've used strings and lists, now we will use a data structure called a dictionary, which looks like  \n",
    "word: definition  \n",
    "word2: definition2  \n",
    "word3: definition3  \n",
    "word4: definition4  \n",
    "\n",
    "Let's do this for our data, where the \"word\" is the base, and the \"definition\" is our count"
   ]
  },
  {
   "cell_type": "code",
   "execution_count": 22,
   "metadata": {
    "collapsed": false
   },
   "outputs": [
    {
     "data": {
      "text/plain": [
       "{'A': 0, 'C': 0, 'G': 0, 'T': 0}"
      ]
     },
     "execution_count": 22,
     "metadata": {},
     "output_type": "execute_result"
    }
   ],
   "source": [
    "{'A':0,\n",
    "'C':0,\n",
    "'G':0,\n",
    "'T':0}"
   ]
  },
  {
   "cell_type": "code",
   "execution_count": 23,
   "metadata": {
    "collapsed": false
   },
   "outputs": [
    {
     "name": "stdout",
     "output_type": "stream",
     "text": [
      "{'A': 0, 'C': 0, 'G': 0, 'T': 0}\n"
     ]
    }
   ],
   "source": [
    "counter = {'A':0,\n",
    "'C':0,\n",
    "'G':0,\n",
    "'T':0}\n",
    "\n",
    "print(counter)"
   ]
  },
  {
   "cell_type": "markdown",
   "metadata": {},
   "source": [
    "That doesn't look much different than our list  \n",
    "However, notice that each count has a label  \n",
    "As with a dictionary of words we can access our counts by the word  \n",
    "We do this in the same format as for lists, except access is by name not position in the list"
   ]
  },
  {
   "cell_type": "code",
   "execution_count": 24,
   "metadata": {
    "collapsed": false
   },
   "outputs": [
    {
     "name": "stdout",
     "output_type": "stream",
     "text": [
      "0\n"
     ]
    }
   ],
   "source": [
    "print(counter['A'])"
   ]
  },
  {
   "cell_type": "markdown",
   "metadata": {},
   "source": [
    "Let's go back to our pattern counting - now using a dictionary"
   ]
  },
  {
   "cell_type": "code",
   "execution_count": 25,
   "metadata": {
    "collapsed": false
   },
   "outputs": [
    {
     "ename": "KeyError",
     "evalue": "'\\n'",
     "output_type": "error",
     "traceback": [
      "\u001b[0;31m---------------------------------------------------------------------------\u001b[0m",
      "\u001b[0;31mKeyError\u001b[0m                                  Traceback (most recent call last)",
      "\u001b[0;32m<ipython-input-25-1016d1c789ef>\u001b[0m in \u001b[0;36m<module>\u001b[0;34m()\u001b[0m\n\u001b[1;32m      3\u001b[0m     \u001b[0;32mif\u001b[0m \u001b[0mline_number\u001b[0m\u001b[0;34m%\u001b[0m\u001b[0;36m4\u001b[0m \u001b[0;34m==\u001b[0m \u001b[0;36m1\u001b[0m\u001b[0;34m:\u001b[0m\u001b[0;34m\u001b[0m\u001b[0m\n\u001b[1;32m      4\u001b[0m         \u001b[0;32mfor\u001b[0m \u001b[0mbase\u001b[0m \u001b[0;32min\u001b[0m \u001b[0mline\u001b[0m\u001b[0;34m:\u001b[0m\u001b[0;34m\u001b[0m\u001b[0m\n\u001b[0;32m----> 5\u001b[0;31m             \u001b[0mcounter\u001b[0m\u001b[0;34m[\u001b[0m\u001b[0mbase\u001b[0m\u001b[0;34m]\u001b[0m \u001b[0;34m=\u001b[0m \u001b[0mcounter\u001b[0m\u001b[0;34m[\u001b[0m\u001b[0mbase\u001b[0m\u001b[0;34m]\u001b[0m \u001b[0;34m+\u001b[0m \u001b[0;36m1\u001b[0m\u001b[0;34m\u001b[0m\u001b[0m\n\u001b[0m\u001b[1;32m      6\u001b[0m \u001b[0;34m\u001b[0m\u001b[0m\n\u001b[1;32m      7\u001b[0m \u001b[0mprint\u001b[0m\u001b[0;34m(\u001b[0m\u001b[0mcounter\u001b[0m\u001b[0;34m)\u001b[0m\u001b[0;34m\u001b[0m\u001b[0m\n",
      "\u001b[0;31mKeyError\u001b[0m: '\\n'"
     ]
    }
   ],
   "source": [
    "counter={'A':0,'C':0,'G':0,'T':0}\n",
    "for line_number,line in enumerate(fastq):\n",
    "    if line_number%4 == 1:\n",
    "        for base in line:\n",
    "            counter[base] = counter[base] + 1\n",
    "            \n",
    "print(counter)"
   ]
  },
  {
   "cell_type": "markdown",
   "metadata": {},
   "source": [
    "Oops - we have an error - the key is the thing we're trying to look up in the dictionary  \n",
    "In this case it's a newline character  \n",
    "You can see it when you print part of the list"
   ]
  },
  {
   "cell_type": "code",
   "execution_count": 26,
   "metadata": {
    "collapsed": false
   },
   "outputs": [
    {
     "name": "stdout",
     "output_type": "stream",
     "text": [
      "['@read0\\n']\n"
     ]
    }
   ],
   "source": [
    "print(fastq[0:1])"
   ]
  },
  {
   "cell_type": "markdown",
   "metadata": {},
   "source": [
    "We need to \"strip\" the newline from each line  \n",
    "For example"
   ]
  },
  {
   "cell_type": "code",
   "execution_count": 27,
   "metadata": {
    "collapsed": false
   },
   "outputs": [
    {
     "name": "stdout",
     "output_type": "stream",
     "text": [
      "@read0\n",
      "\n",
      "@read0\n",
      "TTCACCGTGATACCGCTTGATCTACGACCGTGCATGAAGACCGCCAATGCTAAGCTCAACGAGGTCCGACCGACGAAGAACTCGTGGACTAAAAATAGCT\n",
      "\n",
      "TTCACCGTGATACCGCTTGATCTACGACCGTGCATGAAGACCGCCAATGCTAAGCTCAACGAGGTCCGACCGACGAAGAACTCGTGGACTAAAAATAGCT\n"
     ]
    }
   ],
   "source": [
    "for line in fastq[0:2]:\n",
    "    print(line)\n",
    "    print(line.rstrip())"
   ]
  },
  {
   "cell_type": "code",
   "execution_count": 28,
   "metadata": {
    "collapsed": false
   },
   "outputs": [
    {
     "name": "stdout",
     "output_type": "stream",
     "text": [
      "{'A': 2517, 'C': 2550, 'G': 2489, 'T': 2444}\n"
     ]
    }
   ],
   "source": [
    "counter={'A':0,'C':0,'G':0,'T':0}\n",
    "for line_number,line in enumerate(fastq):\n",
    "    #if it's a sequencing read: if it's line 1+4n: if line number / 4 leaves a remainder of 1\n",
    "    if line_number%4==1:\n",
    "        line=line.rstrip()\n",
    "        for base in line:\n",
    "            counter[base]+=1\n",
    "            \n",
    "print(counter)"
   ]
  },
  {
   "cell_type": "markdown",
   "metadata": {},
   "source": [
    "Now we can count the number of each base  \n",
    "\n",
    "## Challenge: modify the script to count each pair of bases e.g. 'CG'  \n",
    "hint: first modify your script to access the base by its position"
   ]
  },
  {
   "cell_type": "markdown",
   "metadata": {},
   "source": [
    "### Common difficulties with this challenge:  \n",
    "How do you get the two-base string?  \n",
    "- Did you add the current base to the next base?\n",
    "- Do you use the index of the current base to access a range of bases in the line? Did you remember ranges are non-inclusive?  \n",
    "\n",
    "How do you handle the last base in the line, which has no next base?"
   ]
  },
  {
   "cell_type": "markdown",
   "metadata": {},
   "source": [
    "## Challenge: Count pairs of bases assuming you don't know in advance the possible pairs  \n",
    "i.e. the dictionary should start out empty"
   ]
  },
  {
   "cell_type": "markdown",
   "metadata": {},
   "source": [
    "### Common difficulties with this challenge:  \n",
    "How to check if a \"key\" is in the dictionary  \n",
    "How to insert a new \"key\":\"value\" pair in the dictionary\n",
    "\n",
    "## Challenge: Make it possible to count kmers of any length by changing the value of a variable"
   ]
  },
  {
   "cell_type": "code",
   "execution_count": 46,
   "metadata": {},
   "outputs": [
    {
     "name": "stdout",
     "output_type": "stream",
     "text": [
      "{'TT': 583, 'TC': 615, 'CA': 638, 'AC': 665, 'CC': 630, 'CG': 623, 'GT': 627, 'TG': 628, 'GA': 633, 'AT': 574, 'TA': 588, 'GC': 620, 'CT': 636, 'AA': 632, 'AG': 627, 'GG': 581}\n"
     ]
    }
   ],
   "source": [
    "counter={}\n",
    "k=2\n",
    "for line_number,line in enumerate(fastq):\n",
    "    #if it's a sequencing read: if it's line 1+4n: if line number / 4 leaves a remainder of 1\n",
    "    if line_number%4==1:\n",
    "        line=line.rstrip()\n",
    "        for i,base in enumerate(line[:-k+1]):\n",
    "            kmer = line[i:i+k]\n",
    "            if kmer in counter:\n",
    "                counter[kmer]+=1\n",
    "            else:\n",
    "                counter[kmer]=1\n",
    "            \n",
    "print(counter)"
   ]
  },
  {
   "cell_type": "code",
   "execution_count": 113,
   "metadata": {},
   "outputs": [
    {
     "ename": "AssertionError",
     "evalue": "Trying to add incorrect kmer: T from line 1 position 99",
     "output_type": "error",
     "traceback": [
      "\u001b[0;31m---------------------------------------------------------------------------\u001b[0m",
      "\u001b[0;31mAssertionError\u001b[0m                            Traceback (most recent call last)",
      "\u001b[0;32m<ipython-input-113-e5cfa5bf5ab5>\u001b[0m in \u001b[0;36m<module>\u001b[0;34m()\u001b[0m\n\u001b[1;32m     10\u001b[0m                 \u001b[0mcounter\u001b[0m\u001b[0;34m[\u001b[0m\u001b[0mkmer\u001b[0m\u001b[0;34m]\u001b[0m\u001b[0;34m+=\u001b[0m\u001b[0;36m1\u001b[0m\u001b[0;34m\u001b[0m\u001b[0m\n\u001b[1;32m     11\u001b[0m             \u001b[0;32melse\u001b[0m\u001b[0;34m:\u001b[0m\u001b[0;34m\u001b[0m\u001b[0m\n\u001b[0;32m---> 12\u001b[0;31m                 \u001b[0;32massert\u001b[0m \u001b[0mlen\u001b[0m\u001b[0;34m(\u001b[0m\u001b[0mkmer\u001b[0m\u001b[0;34m)\u001b[0m \u001b[0;34m==\u001b[0m \u001b[0mk\u001b[0m\u001b[0;34m,\u001b[0m \u001b[0;34m\"Trying to add incorrect kmer: \"\u001b[0m\u001b[0;34m+\u001b[0m\u001b[0mkmer\u001b[0m\u001b[0;34m+\u001b[0m\u001b[0;34m\" from line \"\u001b[0m\u001b[0;34m+\u001b[0m \u001b[0mstr\u001b[0m\u001b[0;34m(\u001b[0m\u001b[0mline_number\u001b[0m\u001b[0;34m)\u001b[0m \u001b[0;34m+\u001b[0m \u001b[0;34m\" position \"\u001b[0m\u001b[0;34m+\u001b[0m\u001b[0mstr\u001b[0m\u001b[0;34m(\u001b[0m\u001b[0mi\u001b[0m\u001b[0;34m)\u001b[0m\u001b[0;34m\u001b[0m\u001b[0m\n\u001b[0m\u001b[1;32m     13\u001b[0m                 \u001b[0mcounter\u001b[0m\u001b[0;34m[\u001b[0m\u001b[0mkmer\u001b[0m\u001b[0;34m]\u001b[0m\u001b[0;34m=\u001b[0m\u001b[0;36m1\u001b[0m\u001b[0;34m\u001b[0m\u001b[0m\n\u001b[1;32m     14\u001b[0m \u001b[0;34m\u001b[0m\u001b[0m\n",
      "\u001b[0;31mAssertionError\u001b[0m: Trying to add incorrect kmer: T from line 1 position 99"
     ]
    }
   ],
   "source": [
    "counter={}\n",
    "k=2\n",
    "for line_number,line in enumerate(fastq):\n",
    "    #if it's a sequencing read: if it's line 1+4n: if line number / 4 leaves a remainder of 1\n",
    "    if line_number%4==1:\n",
    "        line=line.rstrip()\n",
    "        for i,base in enumerate(line):\n",
    "            kmer = line[i:i+k]\n",
    "            if kmer in counter:\n",
    "                counter[kmer]+=1\n",
    "            else:\n",
    "                assert len(kmer) == k, \"Trying to add incorrect kmer: \"+kmer+\" from line \"+ str(line_number) + \" position \"+str(i)\n",
    "                counter[kmer]=1\n",
    "            \n",
    "print(counter)"
   ]
  },
  {
   "cell_type": "markdown",
   "metadata": {},
   "source": [
    "Up to this point we have specified the file we want to work with. To have python look for fastq files use the `glob` package."
   ]
  },
  {
   "cell_type": "code",
   "execution_count": 45,
   "metadata": {},
   "outputs": [
    {
     "name": "stdout",
     "output_type": "stream",
     "text": [
      "['sample.fastq']\n"
     ]
    }
   ],
   "source": [
    "import glob\n",
    "filelist = glob.glob('*fastq')\n",
    "print(filelist)"
   ]
  },
  {
   "cell_type": "markdown",
   "metadata": {},
   "source": [
    "Use a loop to read the each file in your list of files of interest"
   ]
  },
  {
   "cell_type": "code",
   "execution_count": 49,
   "metadata": {},
   "outputs": [
    {
     "name": "stdout",
     "output_type": "stream",
     "text": [
      "{'TT': 583, 'TC': 615, 'CA': 638, 'AC': 665, 'CC': 630, 'CG': 623, 'GT': 627, 'TG': 628, 'GA': 633, 'AT': 574, 'TA': 588, 'GC': 620, 'CT': 636, 'AA': 632, 'AG': 627, 'GG': 581}\n"
     ]
    }
   ],
   "source": [
    "counter={}\n",
    "k=2\n",
    "for filename in glob.glob('*fastq'):\n",
    "    f = open(filename,'r')\n",
    "    fastq = f.readlines()\n",
    "    for line_number,line in enumerate(fastq):\n",
    "        #if it's a sequencing read: if it's line 1+4n: if line number / 4 leaves a remainder of 1\n",
    "        if line_number%4==1:\n",
    "            line=line.rstrip()\n",
    "            for i,base in enumerate(line[:-k+1]):\n",
    "                kmer = line[i:i+k]\n",
    "                if kmer in counter:\n",
    "                    counter[kmer]+=1\n",
    "                else:\n",
    "                    counter[kmer]=1\n",
    "            \n",
    "print(counter)"
   ]
  },
  {
   "cell_type": "markdown",
   "metadata": {},
   "source": [
    "Let's convert this to a function and reorganize"
   ]
  },
  {
   "cell_type": "code",
   "execution_count": 73,
   "metadata": {},
   "outputs": [
    {
     "name": "stdout",
     "output_type": "stream",
     "text": [
      "{'TTC': 148, 'TCA': 139, 'CAC': 168, 'ACC': 165, 'CCG': 155, 'CGT': 143, 'GTG': 166, 'TGA': 165, 'GAT': 148, 'ATA': 139, 'TAC': 154, 'CGC': 162, 'GCT': 140, 'CTT': 132, 'TTG': 136, 'ATC': 139, 'TCT': 147, 'CTA': 156, 'ACG': 144, 'CGA': 169, 'GAC': 163, 'TGC': 152, 'GCA': 154, 'CAT': 150, 'ATG': 144, 'GAA': 166, 'AAG': 154, 'AGA': 145, 'GCC': 157, 'CCA': 166, 'CAA': 144, 'AAT': 142, 'TAA': 155, 'AGC': 156, 'CTC': 163, 'AAC': 174, 'GAG': 150, 'AGG': 145, 'GGT': 149, 'GTC': 159, 'TCC': 169, 'ACT': 175, 'TCG': 155, 'TGG': 153, 'GGA': 150, 'AAA': 158, 'TAG': 148, 'CCT': 169, 'GCG': 164, 'CGG': 147, 'GGC': 140, 'TTT': 149, 'TTA': 140, 'AGT': 176, 'GTA': 146, 'GGG': 133, 'CAG': 170, 'GTT': 148, 'TGT': 146, 'CTG': 178, 'CCC': 136, 'ACA': 172, 'ATT': 147, 'TAT': 128}\n",
      "Number of kmers:  64\n",
      "Number of possible kmers:  64\n"
     ]
    }
   ],
   "source": [
    "def count_kmers(k,fastq,counter={}):\n",
    "    for line_number,line in enumerate(fastq):\n",
    "    #if it's a sequencing read: if it's line 1+4n: if line number / 4 leaves a remainder of 1\n",
    "        if line_number%4==1:\n",
    "            line=line.rstrip()\n",
    "            for i,base in enumerate(line[:-k+1]):\n",
    "                kmer = line[i:i+k]\n",
    "                if kmer in counter:\n",
    "                    counter[kmer]+=1\n",
    "                else:\n",
    "                    counter[kmer]=1\n",
    "    return(counter)\n",
    "\n",
    "counter={}\n",
    "k=3\n",
    "for filename in glob.glob('*fastq'):\n",
    "    f = open(filename,'r')\n",
    "    fastq = f.readlines()\n",
    "    counter = count_kmers(k,fastq,counter)\n",
    "print(counter)\n",
    "print('Number of kmers: ',len(counter))\n",
    "print('Number of possible kmers: ',4**k)"
   ]
  },
  {
   "cell_type": "code",
   "execution_count": 79,
   "metadata": {},
   "outputs": [
    {
     "data": {
      "image/png": "[encoded data removed]",
      "text/plain": [
       "<matplotlib.figure.Figure at 0x11129dcf8>"
      ]
     },
     "metadata": {},
     "output_type": "display_data"
    }
   ],
   "source": [
    "# plot frequencies\n",
    "import matplotlib.pyplot as plt\n",
    "%matplotlib inline\n",
    "\n",
    "names = list(counter.keys())\n",
    "values = list(counter.values())\n",
    "\n",
    "plt.bar(range(len(counter)),values,tick_label=names);"
   ]
  },
  {
   "cell_type": "code",
   "execution_count": 80,
   "metadata": {},
   "outputs": [
    {
     "name": "stdout",
     "output_type": "stream",
     "text": [
      "      AAA  AAC  AAG  AAT  ACA  ACC  ACG  ACT  AGA  AGC ...   TCG  TCT  TGA  \\\n",
      "kmer  158  174  154  142  172  165  144  175  145  156 ...   155  147  165   \n",
      "\n",
      "      TGC  TGG  TGT  TTA  TTC  TTG  TTT  \n",
      "kmer  152  153  146  140  148  136  149  \n",
      "\n",
      "[1 rows x 64 columns]\n"
     ]
    },
    {
     "data": {
      "image/png": "[encoded data removed]",
      "text/plain": [
       "<matplotlib.figure.Figure at 0x115a4b5c0>"
      ]
     },
     "metadata": {},
     "output_type": "display_data"
    }
   ],
   "source": [
    "#Plot by converting to a data frame\n",
    "import pandas\n",
    "counter_df = pandas.DataFrame(counter, index=['kmer'])\n",
    "print(counter_df)\n",
    "counter_df.plot(kind='bar');"
   ]
  },
  {
   "cell_type": "markdown",
   "metadata": {},
   "source": [
    "You can also plot with the seaborn package"
   ]
  },
  {
   "cell_type": "code",
   "execution_count": 103,
   "metadata": {},
   "outputs": [
    {
     "data": {
      "image/png": "[encoded data removed]",
      "text/plain": [
       "<matplotlib.figure.Figure at 0x117102f98>"
      ]
     },
     "metadata": {},
     "output_type": "display_data"
    }
   ],
   "source": [
    "#!conda install seaborn\n",
    "import seaborn as sns\n",
    "\n",
    "plt.figure(figsize=(10,4)) #note using matplot lib to set figure size\n",
    "g = sns.barplot(data=counter_df, color=\"b\");\n",
    "plt.xticks(rotation=90,); #and matplotlib again\n",
    "plt.savefig('output.png')"
   ]
  }
 ],
 "metadata": {
  "anaconda-cloud": {},
  "kernelspec": {
   "display_name": "Python 3",
   "language": "python",
   "name": "python3"
  },
  "language_info": {
   "codemirror_mode": {
    "name": "ipython",
    "version": 3
   },
   "file_extension": ".py",
   "mimetype": "text/x-python",
   "name": "python",
   "nbconvert_exporter": "python",
   "pygments_lexer": "ipython3",
   "version": "3.6.2"
  }
 },
 "nbformat": 4,
 "nbformat_minor": 2
}
