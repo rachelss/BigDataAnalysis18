{
 "cells": [
  {
   "cell_type": "code",
   "execution_count": 9,
   "metadata": {},
   "outputs": [
    {
     "name": "stdout",
     "output_type": "stream",
     "text": [
      "[2, 1, 3, 4]\n"
     ]
    }
   ],
   "source": [
    "seq = \"ATTGTCGTGA\"\n",
    "len_seq = len(seq)\n",
    "\n",
    "def count_bases(sequence):\n",
    "    countA = sequence.count('A')\n",
    "    countC = sequence.count('C')\n",
    "    countG = sequence.count('G')\n",
    "    countT = sequence.count('T')\n",
    "    return [countA,countC,countG,countT]\n",
    "\n",
    "base_counts = count_bases(seq)\n",
    "print(base_counts)"
   ]
  },
  {
   "cell_type": "code",
   "execution_count": 3,
   "metadata": {},
   "outputs": [],
   "source": [
    "class Seq(object):\n",
    "    def __init__(self,sequence):\n",
    "        self.sequence = sequence\n",
    "        \n",
    "mysequence = Seq(\"AATCTGGCT\")"
   ]
  },
  {
   "cell_type": "code",
   "execution_count": 4,
   "metadata": {},
   "outputs": [
    {
     "data": {
      "text/plain": [
       "'AATCTGGCT'"
      ]
     },
     "execution_count": 4,
     "metadata": {},
     "output_type": "execute_result"
    }
   ],
   "source": [
    "mysequence.sequence"
   ]
  },
  {
   "cell_type": "code",
   "execution_count": 5,
   "metadata": {},
   "outputs": [
    {
     "ename": "TypeError",
     "evalue": "object of type 'Seq' has no len()",
     "output_type": "error",
     "traceback": [
      "\u001b[0;31m---------------------------------------------------------------------------\u001b[0m",
      "\u001b[0;31mTypeError\u001b[0m                                 Traceback (most recent call last)",
      "\u001b[0;32m<ipython-input-5-792fa34d41a1>\u001b[0m in \u001b[0;36m<module>\u001b[0;34m()\u001b[0m\n\u001b[0;32m----> 1\u001b[0;31m \u001b[0mlen\u001b[0m\u001b[0;34m(\u001b[0m\u001b[0mmysequence\u001b[0m\u001b[0;34m)\u001b[0m\u001b[0;34m\u001b[0m\u001b[0m\n\u001b[0m",
      "\u001b[0;31mTypeError\u001b[0m: object of type 'Seq' has no len()"
     ]
    }
   ],
   "source": [
    "len(mysequence)"
   ]
  },
  {
   "cell_type": "code",
   "execution_count": 24,
   "metadata": {},
   "outputs": [
    {
     "name": "stdout",
     "output_type": "stream",
     "text": [
      "9\n",
      "[2, 2, 2, 3]\n",
      "AGCCAGATT\n"
     ]
    }
   ],
   "source": [
    "class Seq(object):\n",
    "    def __init__(self,sequence):\n",
    "        self.sequence = sequence\n",
    "        \n",
    "    def __len__(self):\n",
    "        '''redefine length as length of sequence'''\n",
    "        return len(self.sequence)\n",
    "    \n",
    "    def __str__(self):\n",
    "        '''allow print of string by calling object'''\n",
    "        return str(self.sequence)\n",
    "    \n",
    "    def count_bases(self):\n",
    "        '''count the bases in the sequence'''\n",
    "        countA = self.sequence.count('A')\n",
    "        countC = self.sequence.count('C')\n",
    "        countG = self.sequence.count('G')\n",
    "        countT = self.sequence.count('T')\n",
    "        return [countA,countC,countG,countT]\n",
    "    \n",
    "    def reverse_complement(self):\n",
    "        comp_dict = {'A':'T',\n",
    "                     'C':'G',\n",
    "                     'G':'C',\n",
    "                     'T':'A'}\n",
    "\n",
    "        #same as loop above - list comprehension\n",
    "        complement = [comp_dict[base] for base in self.sequence] #this is a list\n",
    "        complement = ''.join(complement) #convert to a string\n",
    "\n",
    "        reverse_complement = complement[::-1] #trick for reversing string\n",
    "        # [:] is a slice from beginning to end\n",
    "        #[::] is a slice from beginning to end by a step\n",
    "        return Seq(reverse_complement)\n",
    "        \n",
    "mysequence = Seq(\"AATCTGGCT\")\n",
    "print(len(mysequence))\n",
    "print(mysequence.count_bases())\n",
    "print(mysequence.reverse_complement())"
   ]
  },
  {
   "cell_type": "code",
   "execution_count": 22,
   "metadata": {},
   "outputs": [
    {
     "name": "stdout",
     "output_type": "stream",
     "text": [
      "AATCTGGCT\n"
     ]
    }
   ],
   "source": [
    "print(mysequence)"
   ]
  },
  {
   "cell_type": "code",
   "execution_count": 23,
   "metadata": {},
   "outputs": [
    {
     "data": {
      "text/plain": [
       "'GGAATT'"
      ]
     },
     "execution_count": 23,
     "metadata": {},
     "output_type": "execute_result"
    }
   ],
   "source": [
    "def reverse_complement(sequence):\n",
    "#    seq_as_list = list(sequence)\n",
    "#    comp_list = ['T','G','C','A']\n",
    "#    bases = ['A','C','G','T']\n",
    "    comp_dict = {'A':'T',\n",
    "                 'C':'G',\n",
    "                 'G':'C',\n",
    "                 'T':'A'}\n",
    "    complement = []\n",
    "    for i,base in enumerate(sequence):\n",
    "        complement.append(comp_dict[base])\n",
    "        \n",
    "    #same as loop above - list comprehension\n",
    "    complement = [comp_dict[base] for base in sequence] #this is a list\n",
    "    complement = ''.join(complement) #convert to a string\n",
    "        \n",
    "    reverse_complement = complement[::-1] #trick for reversing string\n",
    "    # [:] is a slice from beginning to end\n",
    "    #[::] is a slice from beginning to end by a step\n",
    "    return reverse_complement\n",
    "\n",
    "print(reverse_complement(\"AATTCC\"))"
   ]
  },
  {
   "cell_type": "code",
   "execution_count": null,
   "metadata": {},
   "outputs": [],
   "source": []
  }
 ],
 "metadata": {
  "kernelspec": {
   "display_name": "Python 3",
   "language": "python",
   "name": "python3"
  },
  "language_info": {
   "codemirror_mode": {
    "name": "ipython",
    "version": 3
   },
   "file_extension": ".py",
   "mimetype": "text/x-python",
   "name": "python",
   "nbconvert_exporter": "python",
   "pygments_lexer": "ipython3",
   "version": "3.6.2"
  }
 },
 "nbformat": 4,
 "nbformat_minor": 2
}
